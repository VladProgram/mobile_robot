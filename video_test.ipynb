{
 "cells": [
  {
   "cell_type": "code",
   "execution_count": null,
   "id": "eef6a271",
   "metadata": {},
   "outputs": [],
   "source": [
    "import requests\n",
    "import os\n",
    "import cv2\n",
    "import base64\n",
    "from IPython.display import Image, display\n",
    "import numpy as np\n",
    "from openai import OpenAI\n",
    "import time\n",
    "\n",
    "# Initializing OpenAI client - see https://platform.openai.com/docs/quickstart?context=python\n",
    "client = OpenAI()"
   ]
  },
  {
   "cell_type": "code",
   "execution_count": 1,
   "id": "8cc7164c",
   "metadata": {},
   "outputs": [
    {
     "name": "stdout",
     "output_type": "stream",
     "text": [
      "/Users/ivanivanov/openai\r\n"
     ]
    }
   ],
   "source": [
    "!pwd\n"
   ]
  },
  {
   "cell_type": "code",
   "execution_count": null,
   "id": "7c40e092",
   "metadata": {},
   "outputs": [],
   "source": [
    "api_key = os.environ.get('OPENAI_API_KEY')"
   ]
  },
  {
   "cell_type": "code",
   "execution_count": null,
   "id": "cff75472",
   "metadata": {},
   "outputs": [],
   "source": [
    "video_path = '/Users/ivanivanov/strange_clips/2022-12-20-AMC04207BFA8AB3D2B-01.08.31-01.09.12.mp4'"
   ]
  },
  {
   "cell_type": "code",
   "execution_count": null,
   "id": "09a2c54b",
   "metadata": {},
   "outputs": [],
   "source": [
    "video = cv2.VideoCapture(video_path)\n",
    "\n",
    "base64Frames = []\n",
    "frame_index = 0\n",
    "while video.isOpened():\n",
    "    success, frame = video.read()\n",
    "    if not success:\n",
    "        break\n",
    "    if frame_index == 0 or frame_index % 80 == 0:\n",
    "#     if 1:\n",
    "        original_height, original_width = frame.shape[:2]\n",
    "#         resized_frame = cv2.resize(frame, (original_width // 6, original_height // 6))\n",
    "        _, buffer = cv2.imencode(\".jpg\", frame)\n",
    "        base64Frames.append(base64.b64encode(buffer).decode(\"utf-8\"))\n",
    "    frame_index += 1\n",
    "\n",
    "video.release()\n",
    "print(len(base64Frames), \"frames read.\")"
   ]
  },
  {
   "cell_type": "code",
   "execution_count": null,
   "id": "7ffabff4",
   "metadata": {},
   "outputs": [],
   "source": [
    "display_handle = display(None, display_id=True)\n",
    "for img in base64Frames:\n",
    "    display_handle.update(Image(data=base64.b64decode(img.encode(\"utf-8\"))))\n",
    "    time.sleep(0.025)"
   ]
  },
  {
   "cell_type": "code",
   "execution_count": null,
   "id": "2dba94e1",
   "metadata": {},
   "outputs": [],
   "source": [
    "PROMPT_MESSAGES = [\n",
    "    {\n",
    "        \"role\": \"user\",\n",
    "        \"content\": [\n",
    "            \"Give me and short description about how much are persons and where they are going. Brown door is entrance of building, black doors are property entrances, wich entrance is used left or right?\",\n",
    "            *map(lambda x: {\"image\": x, \"resize\": 768}, base64Frames),\n",
    "        ],\n",
    "    },\n",
    "]\n",
    "params = {\n",
    "    \"model\": \"gpt-4o\",\n",
    "    \"messages\": PROMPT_MESSAGES,\n",
    "    \"max_tokens\": 200,\n",
    "}\n",
    "\n",
    "result = client.chat.completions.create(**params)\n",
    "print(result.choices[0].message.content)"
   ]
  },
  {
   "cell_type": "code",
   "execution_count": null,
   "id": "c85801a9",
   "metadata": {},
   "outputs": [],
   "source": [
    "''' \"model\": \"gpt-4-vision-preview\",'''"
   ]
  },
  {
   "cell_type": "code",
   "execution_count": null,
   "id": "dbeb0d52",
   "metadata": {},
   "outputs": [],
   "source": []
  }
 ],
 "metadata": {
  "kernelspec": {
   "display_name": "Python 3 (ipykernel)",
   "language": "python",
   "name": "python3"
  },
  "language_info": {
   "codemirror_mode": {
    "name": "ipython",
    "version": 3
   },
   "file_extension": ".py",
   "mimetype": "text/x-python",
   "name": "python",
   "nbconvert_exporter": "python",
   "pygments_lexer": "ipython3",
   "version": "3.8.10"
  }
 },
 "nbformat": 4,
 "nbformat_minor": 5
}
